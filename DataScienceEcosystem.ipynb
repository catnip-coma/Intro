{
 "cells": [
  {
   "cell_type": "markdown",
   "id": "247a7b49-6052-41f3-815f-70113a291a97",
   "metadata": {},
   "source": [
    "# Data Science Tools and Ecosystem"
   ]
  },
  {
   "cell_type": "markdown",
   "id": "8783329d-c349-41c3-947b-3c0bb3c66c84",
   "metadata": {},
   "source": [
    "In this notebook, Data Science Tools and Ecosystem are summarized."
   ]
  },
  {
   "cell_type": "markdown",
   "id": "aaa44d11-9f0d-4d6d-9479-6e24058a386a",
   "metadata": {},
   "source": [
    "Some of the popular languages that Data Scientists use are:\n",
    "1. Python\n",
    "2. Julia\n",
    "3. R"
   ]
  },
  {
   "cell_type": "markdown",
   "id": "d86588aa-1274-4ffc-a508-fc33c38733da",
   "metadata": {},
   "source": [
    "Some of the commonly used libraries used by Data Scientists include:\n",
    "1. NumPy\n",
    "2. Pandas\n",
    "3. Matplotlib\n",
    "4. Seaborn\n",
    "5. Scikit-learn"
   ]
  },
  {
   "cell_type": "markdown",
   "id": "614288dd-9eba-4ee2-8070-3c1877652129",
   "metadata": {},
   "source": [
    "| Data Science Tools |\n",
    "|--------------------|\n",
    "| Jupyter Notebook  |\n",
    "| RStudio          |\n",
    "| Visual Studio Code |\n"
   ]
  },
  {
   "cell_type": "markdown",
   "id": "0fb8ae74-281c-41a1-ac5d-04a145853155",
   "metadata": {},
   "source": [
    "### Below are a few examples of evaluating arithmetic expressions in Python\n"
   ]
  },
  {
   "cell_type": "code",
   "execution_count": 1,
   "id": "b082c556-cb22-47fc-a53e-38dd1981bc30",
   "metadata": {},
   "outputs": [
    {
     "name": "stdout",
     "output_type": "stream",
     "text": [
      "8\n",
      "6\n",
      "14\n"
     ]
    }
   ],
   "source": [
    "# Addition\n",
    "result1 = 5 + 3\n",
    "print(result1)\n",
    "\n",
    "# Subtraction\n",
    "result2 = 10 - 4\n",
    "print(result2)\n",
    "\n",
    "# Multiplication\n",
    "result3 = 7 * 2\n",
    "print(result3)"
   ]
  },
  {
   "cell_type": "markdown",
   "id": "c9557f59-41c5-4036-94d2-5431b62fc026",
   "metadata": {},
   "source": [
    "### This a simple arithmetic expression to mutiply then add integers"
   ]
  },
  {
   "cell_type": "code",
   "execution_count": 2,
   "id": "1f7f3461-c643-4526-b7e7-6892048fe93b",
   "metadata": {},
   "outputs": [
    {
     "data": {
      "text/plain": [
       "17"
      ]
     },
     "execution_count": 2,
     "metadata": {},
     "output_type": "execute_result"
    }
   ],
   "source": [
    "(3*4)+5"
   ]
  },
  {
   "cell_type": "markdown",
   "id": "525a6def-6df1-4083-9d5d-06c807a90e38",
   "metadata": {},
   "source": [
    "### This will convert 200 minutes to hours by diving by 60"
   ]
  },
  {
   "cell_type": "code",
   "execution_count": 3,
   "id": "ded72b6e-19d8-4265-b3ee-24170bb3e2d9",
   "metadata": {},
   "outputs": [
    {
     "name": "stdout",
     "output_type": "stream",
     "text": [
      "3.3333333333333335\n"
     ]
    }
   ],
   "source": [
    "hours = 200 / 60\n",
    "print(hours)"
   ]
  },
  {
   "cell_type": "markdown",
   "id": "c5150a7d-2c80-4793-8a92-52d33e3bd51e",
   "metadata": {},
   "source": [
    "**Objectives:**\n",
    "- List popular languages for Data Science\n",
    "- Explore commonly used Data Science tools\n",
    "- Understand basic arithmetic expressions in Python\n",
    "- Convert units using Python expressions\n",
    "- Create structured Markdown cells in Jupyter Notebook"
   ]
  },
  {
   "cell_type": "markdown",
   "id": "d6fd71df-fc6d-49d6-87b2-3e82254b619d",
   "metadata": {},
   "source": [
    "## Author \n",
    "Navya Kannan"
   ]
  },
  {
   "cell_type": "code",
   "execution_count": null,
   "id": "0b566b6b-d464-47e0-b9b0-57c2398d7b0a",
   "metadata": {},
   "outputs": [],
   "source": []
  }
 ],
 "metadata": {
  "kernelspec": {
   "display_name": "Python 3 (ipykernel)",
   "language": "python",
   "name": "python3"
  },
  "language_info": {
   "codemirror_mode": {
    "name": "ipython",
    "version": 3
   },
   "file_extension": ".py",
   "mimetype": "text/x-python",
   "name": "python",
   "nbconvert_exporter": "python",
   "pygments_lexer": "ipython3",
   "version": "3.12.7"
  }
 },
 "nbformat": 4,
 "nbformat_minor": 5
}
